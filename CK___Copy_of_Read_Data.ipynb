{
  "nbformat": 4,
  "nbformat_minor": 0,
  "metadata": {
    "colab": {
      "provenance": [],
      "include_colab_link": true
    },
    "kernelspec": {
      "name": "python3",
      "display_name": "Python 3"
    },
    "language_info": {
      "name": "python"
    }
  },
  "cells": [
    {
      "cell_type": "markdown",
      "metadata": {
        "id": "view-in-github",
        "colab_type": "text"
      },
      "source": [
        "<a href=\"https://colab.research.google.com/github/metarealnet/project2_alchemy/blob/main/CK___Copy_of_Read_Data.ipynb\" target=\"_parent\"><img src=\"https://colab.research.google.com/assets/colab-badge.svg\" alt=\"Open In Colab\"/></a>"
      ]
    },
    {
      "cell_type": "markdown",
      "source": [
        "# Reading On-Chain Data with ApeWorX\n",
        "\n",
        "Ape is a Python-based toolkit for developing smart contracts, interacting with them, and getting on-chain data. "
      ],
      "metadata": {
        "id": "QZmuP6wBrJ76"
      }
    },
    {
      "cell_type": "markdown",
      "source": [
        "## Step 0:\n",
        "###Use my ref link when signing up for Alchemy. I don't make money on this link, its purely a way to figure out how many people actually follow my tutorials 👇 \n",
        "\n",
        "https://www.alchemy.com/?a=KofiNFT"
      ],
      "metadata": {
        "id": "M5TRLMkosImy"
      }
    },
    {
      "cell_type": "markdown",
      "source": [
        "## Step 1:  Installing Ape"
      ],
      "metadata": {
        "id": "ggMwh07ArsBx"
      }
    },
    {
      "cell_type": "code",
      "execution_count": 1,
      "metadata": {
        "id": "cgOkNAayrEjE",
        "colab": {
          "base_uri": "https://localhost:8080/"
        },
        "outputId": "f8f89f59-f480-41c2-b2a9-c1fdf50b4fce"
      },
      "outputs": [
        {
          "output_type": "stream",
          "name": "stdout",
          "text": [
            "Looking in indexes: https://pypi.org/simple, https://us-python.pkg.dev/colab-wheels/public/simple/\n",
            "Collecting eth-ape\n",
            "  Downloading eth_ape-0.6.6-py3-none-any.whl (217 kB)\n",
            "\u001b[2K     \u001b[90m━━━━━━━━━━━━━━━━━━━━━━━━━━━━━━━━━━━━━━━\u001b[0m \u001b[32m217.1/217.1 KB\u001b[0m \u001b[31m4.3 MB/s\u001b[0m eta \u001b[36m0:00:00\u001b[0m\n",
            "\u001b[?25hCollecting requests<3,>=2.28.1\n",
            "  Downloading requests-2.28.2-py3-none-any.whl (62 kB)\n",
            "\u001b[2K     \u001b[90m━━━━━━━━━━━━━━━━━━━━━━━━━━━━━━━━━━━━━━━━\u001b[0m \u001b[32m62.8/62.8 KB\u001b[0m \u001b[31m3.7 MB/s\u001b[0m eta \u001b[36m0:00:00\u001b[0m\n",
            "\u001b[?25hRequirement already satisfied: importlib-metadata in /usr/local/lib/python3.9/dist-packages (from eth-ape) (6.1.0)\n",
            "Collecting watchdog<3.0,>=2.1.9\n",
            "  Downloading watchdog-2.3.1-py3-none-manylinux2014_x86_64.whl (80 kB)\n",
            "\u001b[2K     \u001b[90m━━━━━━━━━━━━━━━━━━━━━━━━━━━━━━━━━━━━━━━━\u001b[0m \u001b[32m80.6/80.6 KB\u001b[0m \u001b[31m4.9 MB/s\u001b[0m eta \u001b[36m0:00:00\u001b[0m\n",
            "\u001b[?25hRequirement already satisfied: click<9,>=8.1.3 in /usr/local/lib/python3.9/dist-packages (from eth-ape) (8.1.3)\n",
            "Collecting eth-utils<3,>=2.0.0\n",
            "  Downloading eth_utils-2.1.0-py3-none-any.whl (24 kB)\n",
            "Requirement already satisfied: python-dateutil<3,>=2.8.2 in /usr/local/lib/python3.9/dist-packages (from eth-ape) (2.8.2)\n",
            "Collecting ethpm-types<0.5,>=0.4.0\n",
            "  Downloading ethpm_types-0.4.1-py3-none-any.whl (24 kB)\n",
            "Collecting eth-typing<4,>=3.1\n",
            "  Downloading eth_typing-3.3.0-py3-none-any.whl (6.3 kB)\n",
            "Collecting evm-trace>=0.1.0a17\n",
            "  Downloading evm_trace-0.1.0a17-py3-none-any.whl (17 kB)\n",
            "Requirement already satisfied: tqdm<5.0,>=4.62.3 in /usr/local/lib/python3.9/dist-packages (from eth-ape) (4.65.0)\n",
            "Requirement already satisfied: pydantic<2,>=1.9.2 in /usr/local/lib/python3.9/dist-packages (from eth-ape) (1.10.7)\n",
            "Collecting hexbytes<1,>=0.2.3\n",
            "  Downloading hexbytes-0.3.0-py3-none-any.whl (6.4 kB)\n",
            "Requirement already satisfied: traitlets>=5.3.0 in /usr/local/lib/python3.9/dist-packages (from eth-ape) (5.7.1)\n",
            "Requirement already satisfied: pandas<2,>=1.3.0 in /usr/local/lib/python3.9/dist-packages (from eth-ape) (1.4.4)\n",
            "Requirement already satisfied: SQLAlchemy>=1.4.35 in /usr/local/lib/python3.9/dist-packages (from eth-ape) (1.4.47)\n",
            "Collecting packaging<22,>=21\n",
            "  Downloading packaging-21.3-py3-none-any.whl (40 kB)\n",
            "\u001b[2K     \u001b[90m━━━━━━━━━━━━━━━━━━━━━━━━━━━━━━━━━━━━━━━━\u001b[0m \u001b[32m40.8/40.8 KB\u001b[0m \u001b[31m1.9 MB/s\u001b[0m eta \u001b[36m0:00:00\u001b[0m\n",
            "\u001b[?25hCollecting eth-account<0.8,>=0.7\n",
            "  Downloading eth_account-0.7.0-py3-none-any.whl (102 kB)\n",
            "\u001b[2K     \u001b[90m━━━━━━━━━━━━━━━━━━━━━━━━━━━━━━━━━━━━━━━\u001b[0m \u001b[32m102.5/102.5 KB\u001b[0m \u001b[31m7.9 MB/s\u001b[0m eta \u001b[36m0:00:00\u001b[0m\n",
            "\u001b[?25hCollecting eip712<0.3,>=0.2.0\n",
            "  Downloading eip712-0.2.0-py3-none-any.whl (9.9 kB)\n",
            "Requirement already satisfied: pluggy<2,>=0.12 in /usr/local/lib/python3.9/dist-packages (from eth-ape) (1.0.0)\n",
            "Collecting rich<13,>=12.5.1\n",
            "  Downloading rich-12.6.0-py3-none-any.whl (237 kB)\n",
            "\u001b[2K     \u001b[90m━━━━━━━━━━━━━━━━━━━━━━━━━━━━━━━━━━━━━━\u001b[0m \u001b[32m237.5/237.5 KB\u001b[0m \u001b[31m13.9 MB/s\u001b[0m eta \u001b[36m0:00:00\u001b[0m\n",
            "\u001b[?25hCollecting ipython<9,>=8.5.0\n",
            "  Downloading ipython-8.11.0-py3-none-any.whl (793 kB)\n",
            "\u001b[2K     \u001b[90m━━━━━━━━━━━━━━━━━━━━━━━━━━━━━━━━━━━━━━\u001b[0m \u001b[32m793.3/793.3 KB\u001b[0m \u001b[31m33.5 MB/s\u001b[0m eta \u001b[36m0:00:00\u001b[0m\n",
            "\u001b[?25hRequirement already satisfied: pytest<8.0,>=6.0 in /usr/local/lib/python3.9/dist-packages (from eth-ape) (7.2.2)\n",
            "Collecting PyGithub<2,>=1.54\n",
            "  Downloading PyGithub-1.58.1-py3-none-any.whl (312 kB)\n",
            "\u001b[2K     \u001b[90m━━━━━━━━━━━━━━━━━━━━━━━━━━━━━━━━━━━━━━━\u001b[0m \u001b[32m312.5/312.5 KB\u001b[0m \u001b[31m4.7 MB/s\u001b[0m eta \u001b[36m0:00:00\u001b[0m\n",
            "\u001b[?25hCollecting web3[tester]==6.0.0b7\n",
            "  Downloading web3-6.0.0b7-py3-none-any.whl (528 kB)\n",
            "\u001b[2K     \u001b[90m━━━━━━━━━━━━━━━━━━━━━━━━━━━━━━━━━━━━━━\u001b[0m \u001b[32m528.9/528.9 KB\u001b[0m \u001b[31m23.6 MB/s\u001b[0m eta \u001b[36m0:00:00\u001b[0m\n",
            "\u001b[?25hCollecting py-geth<4,>=3.8.0\n",
            "  Downloading py_geth-3.12.0-py3-none-any.whl (24 kB)\n",
            "Collecting eth-abi<4,>=3.0.1\n",
            "  Downloading eth_abi-3.0.1-py3-none-any.whl (28 kB)\n",
            "Requirement already satisfied: pyyaml<7,>=6.0 in /usr/local/lib/python3.9/dist-packages (from eth-ape) (6.0)\n",
            "Collecting ijson<4,>=3.1.4\n",
            "  Downloading ijson-3.2.0.post0-cp39-cp39-manylinux_2_17_x86_64.manylinux2014_x86_64.whl (112 kB)\n",
            "\u001b[2K     \u001b[90m━━━━━━━━━━━━━━━━━━━━━━━━━━━━━━━━━━━━━━━\u001b[0m \u001b[32m112.5/112.5 KB\u001b[0m \u001b[31m6.9 MB/s\u001b[0m eta \u001b[36m0:00:00\u001b[0m\n",
            "\u001b[?25hCollecting lru-dict<2.0.0,>=1.1.6\n",
            "  Downloading lru_dict-1.1.8-cp39-cp39-manylinux_2_5_x86_64.manylinux1_x86_64.manylinux_2_17_x86_64.manylinux2014_x86_64.whl (28 kB)\n",
            "Collecting websockets<11,>=10.0.0\n",
            "  Downloading websockets-10.4-cp39-cp39-manylinux_2_5_x86_64.manylinux1_x86_64.manylinux_2_17_x86_64.manylinux2014_x86_64.whl (106 kB)\n",
            "\u001b[2K     \u001b[90m━━━━━━━━━━━━━━━━━━━━━━━━━━━━━━━━━━━━━━━\u001b[0m \u001b[32m106.5/106.5 KB\u001b[0m \u001b[31m6.8 MB/s\u001b[0m eta \u001b[36m0:00:00\u001b[0m\n",
            "\u001b[?25hRequirement already satisfied: jsonschema<5,>=4.0.0 in /usr/local/lib/python3.9/dist-packages (from web3[tester]==6.0.0b7->eth-ape) (4.3.3)\n",
            "Collecting aiohttp<4,>=3.7.4.post0\n",
            "  Downloading aiohttp-3.8.4-cp39-cp39-manylinux_2_17_x86_64.manylinux2014_x86_64.whl (1.0 MB)\n",
            "\u001b[2K     \u001b[90m━━━━━━━━━━━━━━━━━━━━━━━━━━━━━━━━━━━━━━━━\u001b[0m \u001b[32m1.0/1.0 MB\u001b[0m \u001b[31m21.1 MB/s\u001b[0m eta \u001b[36m0:00:00\u001b[0m\n",
            "\u001b[?25hCollecting protobuf>=4.21.6\n",
            "  Downloading protobuf-4.22.1-cp37-abi3-manylinux2014_x86_64.whl (302 kB)\n",
            "\u001b[2K     \u001b[90m━━━━━━━━━━━━━━━━━━━━━━━━━━━━━━━━━━━━━━\u001b[0m \u001b[32m302.4/302.4 KB\u001b[0m \u001b[31m13.8 MB/s\u001b[0m eta \u001b[36m0:00:00\u001b[0m\n",
            "\u001b[?25hCollecting ipfshttpclient==0.8.0a2\n",
            "  Downloading ipfshttpclient-0.8.0a2-py3-none-any.whl (82 kB)\n",
            "\u001b[2K     \u001b[90m━━━━━━━━━━━━━━━━━━━━━━━━━━━━━━━━━━━━━━━━\u001b[0m \u001b[32m82.6/82.6 KB\u001b[0m \u001b[31m4.0 MB/s\u001b[0m eta \u001b[36m0:00:00\u001b[0m\n",
            "\u001b[?25hCollecting eth-hash[pycryptodome]<1.0.0,>=0.2.0\n",
            "  Downloading eth_hash-0.5.1-py3-none-any.whl (9.0 kB)\n",
            "Collecting eth-tester[py-evm]==v0.7.0-beta.1\n",
            "  Downloading eth_tester-0.7.0b1-py3-none-any.whl (69 kB)\n",
            "\u001b[2K     \u001b[90m━━━━━━━━━━━━━━━━━━━━━━━━━━━━━━━━━━━━━━━━\u001b[0m \u001b[32m69.1/69.1 KB\u001b[0m \u001b[31m5.6 MB/s\u001b[0m eta \u001b[36m0:00:00\u001b[0m\n",
            "\u001b[?25hCollecting semantic-version<3.0.0,>=2.6.0\n",
            "  Downloading semantic_version-2.10.0-py2.py3-none-any.whl (15 kB)\n",
            "Collecting rlp<4,>=3.0.0\n",
            "  Downloading rlp-3.0.0-py2.py3-none-any.whl (20 kB)\n",
            "Collecting eth-keys<0.5.0,>=0.4.0\n",
            "  Downloading eth_keys-0.4.0-py3-none-any.whl (21 kB)\n",
            "Collecting py-evm==0.6.0a1\n",
            "  Downloading py_evm-0.6.0a1-py3-none-any.whl (279 kB)\n",
            "\u001b[2K     \u001b[90m━━━━━━━━━━━━━━━━━━━━━━━━━━━━━━━━━━━━━━\u001b[0m \u001b[32m279.1/279.1 KB\u001b[0m \u001b[31m16.7 MB/s\u001b[0m eta \u001b[36m0:00:00\u001b[0m\n",
            "\u001b[?25hCollecting multiaddr>=0.0.7\n",
            "  Downloading multiaddr-0.0.9-py2.py3-none-any.whl (16 kB)\n",
            "Collecting eth-bloom<2.0.0,>=1.0.3\n",
            "  Downloading eth_bloom-1.0.4-py3-none-any.whl (5.4 kB)\n",
            "Collecting mypy-extensions<1.0.0,>=0.4.1\n",
            "  Downloading mypy_extensions-0.4.4.tar.gz (4.2 kB)\n",
            "  Preparing metadata (setup.py) ... \u001b[?25l\u001b[?25hdone\n",
            "Requirement already satisfied: cached-property<2,>=1.5.1 in /usr/local/lib/python3.9/dist-packages (from py-evm==0.6.0a1->eth-tester[py-evm]==v0.7.0-beta.1->web3[tester]==6.0.0b7->eth-ape) (1.5.2)\n",
            "Collecting py-ecc<7.0.0,>=1.4.7\n",
            "  Downloading py_ecc-6.0.0-py3-none-any.whl (43 kB)\n",
            "\u001b[2K     \u001b[90m━━━━━━━━━━━━━━━━━━━━━━━━━━━━━━━━━━━━━━━━\u001b[0m \u001b[32m43.4/43.4 KB\u001b[0m \u001b[31m3.4 MB/s\u001b[0m eta \u001b[36m0:00:00\u001b[0m\n",
            "\u001b[?25hCollecting pyethash<1.0.0,>=0.1.27\n",
            "  Downloading pyethash-0.1.27.tar.gz (38 kB)\n",
            "  Preparing metadata (setup.py) ... \u001b[?25l\u001b[?25hdone\n",
            "Collecting trie<3,>=2.0.0\n",
            "  Downloading trie-2.1.0-py3-none-any.whl (38 kB)\n",
            "Collecting dataclassy<1,>=0.8.2\n",
            "  Downloading dataclassy-0.11.1-py3-none-any.whl (23 kB)\n",
            "Collecting parsimonious<0.9.0,>=0.8.0\n",
            "  Downloading parsimonious-0.8.1.tar.gz (45 kB)\n",
            "\u001b[2K     \u001b[90m━━━━━━━━━━━━━━━━━━━━━━━━━━━━━━━━━━━━━━━━\u001b[0m \u001b[32m45.1/45.1 KB\u001b[0m \u001b[31m4.2 MB/s\u001b[0m eta \u001b[36m0:00:00\u001b[0m\n",
            "\u001b[?25h  Preparing metadata (setup.py) ... \u001b[?25l\u001b[?25hdone\n",
            "Collecting bitarray<3,>=2.4.0\n",
            "  Downloading bitarray-2.7.3-cp39-cp39-manylinux_2_17_x86_64.manylinux2014_x86_64.whl (269 kB)\n",
            "\u001b[2K     \u001b[90m━━━━━━━━━━━━━━━━━━━━━━━━━━━━━━━━━━━━━━━\u001b[0m \u001b[32m269.6/269.6 KB\u001b[0m \u001b[31m3.5 MB/s\u001b[0m eta \u001b[36m0:00:00\u001b[0m\n",
            "\u001b[?25hCollecting eth-keyfile<0.7.0,>=0.6.0\n",
            "  Downloading eth_keyfile-0.6.1-py3-none-any.whl (6.5 kB)\n",
            "Collecting eth-rlp<1,>=0.3.0\n",
            "  Downloading eth_rlp-0.3.0-py3-none-any.whl (5.0 kB)\n",
            "Collecting cytoolz>=0.10.1\n",
            "  Downloading cytoolz-0.12.1-cp39-cp39-manylinux_2_17_x86_64.manylinux2014_x86_64.whl (1.8 MB)\n",
            "\u001b[2K     \u001b[90m━━━━━━━━━━━━━━━━━━━━━━━━━━━━━━━━━━━━━━━━\u001b[0m \u001b[32m1.8/1.8 MB\u001b[0m \u001b[31m41.2 MB/s\u001b[0m eta \u001b[36m0:00:00\u001b[0m\n",
            "\u001b[?25hCollecting py-cid<0.4,>=0.3.0\n",
            "  Downloading py_cid-0.3.0-py2.py3-none-any.whl (7.9 kB)\n",
            "Collecting msgspec>=0.8\n",
            "  Downloading msgspec-0.13.1-cp39-cp39-manylinux_2_17_x86_64.manylinux2014_x86_64.whl (177 kB)\n",
            "\u001b[2K     \u001b[90m━━━━━━━━━━━━━━━━━━━━━━━━━━━━━━━━━━━━━━\u001b[0m \u001b[32m177.6/177.6 KB\u001b[0m \u001b[31m10.2 MB/s\u001b[0m eta \u001b[36m0:00:00\u001b[0m\n",
            "\u001b[?25hRequirement already satisfied: pygments>=2.4.0 in /usr/local/lib/python3.9/dist-packages (from ipython<9,>=8.5.0->eth-ape) (2.14.0)\n",
            "Collecting jedi>=0.16\n",
            "  Downloading jedi-0.18.2-py2.py3-none-any.whl (1.6 MB)\n",
            "\u001b[2K     \u001b[90m━━━━━━━━━━━━━━━━━━━━━━━━━━━━━━━━━━━━━━━━\u001b[0m \u001b[32m1.6/1.6 MB\u001b[0m \u001b[31m50.5 MB/s\u001b[0m eta \u001b[36m0:00:00\u001b[0m\n",
            "\u001b[?25hRequirement already satisfied: decorator in /usr/local/lib/python3.9/dist-packages (from ipython<9,>=8.5.0->eth-ape) (4.4.2)\n",
            "Requirement already satisfied: pickleshare in /usr/local/lib/python3.9/dist-packages (from ipython<9,>=8.5.0->eth-ape) (0.7.5)\n",
            "Collecting matplotlib-inline\n",
            "  Downloading matplotlib_inline-0.1.6-py3-none-any.whl (9.4 kB)\n",
            "Collecting stack-data\n",
            "  Downloading stack_data-0.6.2-py3-none-any.whl (24 kB)\n",
            "Requirement already satisfied: pexpect>4.3 in /usr/local/lib/python3.9/dist-packages (from ipython<9,>=8.5.0->eth-ape) (4.8.0)\n",
            "Collecting prompt-toolkit!=3.0.37,<3.1.0,>=3.0.30\n",
            "  Downloading prompt_toolkit-3.0.38-py3-none-any.whl (385 kB)\n",
            "\u001b[2K     \u001b[90m━━━━━━━━━━━━━━━━━━━━━━━━━━━━━━━━━━━━━━\u001b[0m \u001b[32m385.8/385.8 KB\u001b[0m \u001b[31m19.9 MB/s\u001b[0m eta \u001b[36m0:00:00\u001b[0m\n",
            "\u001b[?25hRequirement already satisfied: backcall in /usr/local/lib/python3.9/dist-packages (from ipython<9,>=8.5.0->eth-ape) (0.2.0)\n",
            "Requirement already satisfied: pyparsing!=3.0.5,>=2.0.2 in /usr/local/lib/python3.9/dist-packages (from packaging<22,>=21->eth-ape) (3.0.9)\n",
            "Requirement already satisfied: numpy>=1.18.5 in /usr/local/lib/python3.9/dist-packages (from pandas<2,>=1.3.0->eth-ape) (1.22.4)\n",
            "Requirement already satisfied: pytz>=2020.1 in /usr/local/lib/python3.9/dist-packages (from pandas<2,>=1.3.0->eth-ape) (2022.7.1)\n",
            "Requirement already satisfied: typing-extensions>=4.2.0 in /usr/local/lib/python3.9/dist-packages (from pydantic<2,>=1.9.2->eth-ape) (4.5.0)\n",
            "Collecting deprecated\n",
            "  Downloading Deprecated-1.2.13-py2.py3-none-any.whl (9.6 kB)\n",
            "Collecting pynacl>=1.4.0\n",
            "  Downloading PyNaCl-1.5.0-cp36-abi3-manylinux_2_17_x86_64.manylinux2014_x86_64.manylinux_2_24_x86_64.whl (856 kB)\n",
            "\u001b[2K     \u001b[90m━━━━━━━━━━━━━━━━━━━━━━━━━━━━━━━━━━━━━━\u001b[0m \u001b[32m856.7/856.7 KB\u001b[0m \u001b[31m39.0 MB/s\u001b[0m eta \u001b[36m0:00:00\u001b[0m\n",
            "\u001b[?25hCollecting pyjwt[crypto]>=2.4.0\n",
            "  Downloading PyJWT-2.6.0-py3-none-any.whl (20 kB)\n",
            "Requirement already satisfied: attrs>=19.2.0 in /usr/local/lib/python3.9/dist-packages (from pytest<8.0,>=6.0->eth-ape) (22.2.0)\n",
            "Requirement already satisfied: tomli>=1.0.0 in /usr/local/lib/python3.9/dist-packages (from pytest<8.0,>=6.0->eth-ape) (2.0.1)\n",
            "Requirement already satisfied: iniconfig in /usr/local/lib/python3.9/dist-packages (from pytest<8.0,>=6.0->eth-ape) (2.0.0)\n",
            "Requirement already satisfied: exceptiongroup>=1.0.0rc8 in /usr/local/lib/python3.9/dist-packages (from pytest<8.0,>=6.0->eth-ape) (1.1.1)\n",
            "Requirement already satisfied: six>=1.5 in /usr/local/lib/python3.9/dist-packages (from python-dateutil<3,>=2.8.2->eth-ape) (1.16.0)\n",
            "Requirement already satisfied: idna<4,>=2.5 in /usr/local/lib/python3.9/dist-packages (from requests<3,>=2.28.1->eth-ape) (3.4)\n",
            "Requirement already satisfied: charset-normalizer<4,>=2 in /usr/local/lib/python3.9/dist-packages (from requests<3,>=2.28.1->eth-ape) (2.0.12)\n",
            "Requirement already satisfied: urllib3<1.27,>=1.21.1 in /usr/local/lib/python3.9/dist-packages (from requests<3,>=2.28.1->eth-ape) (1.26.15)\n",
            "Requirement already satisfied: certifi>=2017.4.17 in /usr/local/lib/python3.9/dist-packages (from requests<3,>=2.28.1->eth-ape) (2022.12.7)\n",
            "Collecting commonmark<0.10.0,>=0.9.0\n",
            "  Downloading commonmark-0.9.1-py2.py3-none-any.whl (51 kB)\n",
            "\u001b[2K     \u001b[90m━━━━━━━━━━━━━━━━━━━━━━━━━━━━━━━━━━━━━━━━\u001b[0m \u001b[32m51.1/51.1 KB\u001b[0m \u001b[31m3.1 MB/s\u001b[0m eta \u001b[36m0:00:00\u001b[0m\n",
            "\u001b[?25hRequirement already satisfied: greenlet!=0.4.17 in /usr/local/lib/python3.9/dist-packages (from SQLAlchemy>=1.4.35->eth-ape) (2.0.2)\n",
            "Requirement already satisfied: zipp>=0.5 in /usr/local/lib/python3.9/dist-packages (from importlib-metadata->eth-ape) (3.15.0)\n",
            "Collecting aiosignal>=1.1.2\n",
            "  Downloading aiosignal-1.3.1-py3-none-any.whl (7.6 kB)\n",
            "Collecting async-timeout<5.0,>=4.0.0a3\n",
            "  Downloading async_timeout-4.0.2-py3-none-any.whl (5.8 kB)\n",
            "Collecting frozenlist>=1.1.1\n",
            "  Downloading frozenlist-1.3.3-cp39-cp39-manylinux_2_5_x86_64.manylinux1_x86_64.manylinux_2_17_x86_64.manylinux2014_x86_64.whl (158 kB)\n",
            "\u001b[2K     \u001b[90m━━━━━━━━━━━━━━━━━━━━━━━━━━━━━━━━━━━━━━\u001b[0m \u001b[32m158.8/158.8 KB\u001b[0m \u001b[31m10.7 MB/s\u001b[0m eta \u001b[36m0:00:00\u001b[0m\n",
            "\u001b[?25hCollecting yarl<2.0,>=1.0\n",
            "  Downloading yarl-1.8.2-cp39-cp39-manylinux_2_17_x86_64.manylinux2014_x86_64.whl (264 kB)\n",
            "\u001b[2K     \u001b[90m━━━━━━━━━━━━━━━━━━━━━━━━━━━━━━━━━━━━━━━\u001b[0m \u001b[32m264.6/264.6 KB\u001b[0m \u001b[31m9.1 MB/s\u001b[0m eta \u001b[36m0:00:00\u001b[0m\n",
            "\u001b[?25hCollecting multidict<7.0,>=4.5\n",
            "  Downloading multidict-6.0.4-cp39-cp39-manylinux_2_17_x86_64.manylinux2014_x86_64.whl (114 kB)\n",
            "\u001b[2K     \u001b[90m━━━━━━━━━━━━━━━━━━━━━━━━━━━━━━━━━━━━━━━\u001b[0m \u001b[32m114.2/114.2 KB\u001b[0m \u001b[31m4.2 MB/s\u001b[0m eta \u001b[36m0:00:00\u001b[0m\n",
            "\u001b[?25hRequirement already satisfied: toolz>=0.8.0 in /usr/local/lib/python3.9/dist-packages (from cytoolz>=0.10.1->eth-utils<3,>=2.0.0->eth-ape) (0.12.0)\n",
            "Collecting pycryptodome<4,>=3.6.6\n",
            "  Downloading pycryptodome-3.17-cp35-abi3-manylinux_2_17_x86_64.manylinux2014_x86_64.whl (2.1 MB)\n",
            "\u001b[2K     \u001b[90m━━━━━━━━━━━━━━━━━━━━━━━━━━━━━━━━━━━━━━━━\u001b[0m \u001b[32m2.1/2.1 MB\u001b[0m \u001b[31m56.4 MB/s\u001b[0m eta \u001b[36m0:00:00\u001b[0m\n",
            "\u001b[?25hRequirement already satisfied: parso<0.9.0,>=0.8.0 in /usr/local/lib/python3.9/dist-packages (from jedi>=0.16->ipython<9,>=8.5.0->eth-ape) (0.8.3)\n",
            "Requirement already satisfied: pyrsistent!=0.17.0,!=0.17.1,!=0.17.2,>=0.14.0 in /usr/local/lib/python3.9/dist-packages (from jsonschema<5,>=4.0.0->web3[tester]==6.0.0b7->eth-ape) (0.19.3)\n",
            "Requirement already satisfied: ptyprocess>=0.5 in /usr/local/lib/python3.9/dist-packages (from pexpect>4.3->ipython<9,>=8.5.0->eth-ape) (0.7.0)\n",
            "Requirement already satisfied: wcwidth in /usr/local/lib/python3.9/dist-packages (from prompt-toolkit!=3.0.37,<3.1.0,>=3.0.30->ipython<9,>=8.5.0->eth-ape) (0.2.6)\n",
            "Collecting py-multibase<2.0.0,>=1.0.0\n",
            "  Downloading py_multibase-1.0.3-py2.py3-none-any.whl (6.4 kB)\n",
            "Collecting py-multihash<1.0.0,>=0.2.0\n",
            "  Downloading py_multihash-0.2.3-py2.py3-none-any.whl (7.9 kB)\n",
            "Collecting py-multicodec<0.3.0\n",
            "  Downloading py_multicodec-0.2.1-py2.py3-none-any.whl (8.5 kB)\n",
            "Collecting base58<2.0,>=1.0.2\n",
            "  Downloading base58-1.0.3-py3-none-any.whl (3.1 kB)\n",
            "Collecting morphys<2.0,>=1.0\n",
            "  Downloading morphys-1.0-py2.py3-none-any.whl (5.6 kB)\n",
            "Requirement already satisfied: cryptography>=3.4.0 in /usr/local/lib/python3.9/dist-packages (from pyjwt[crypto]>=2.4.0->PyGithub<2,>=1.54->eth-ape) (39.0.2)\n",
            "Requirement already satisfied: cffi>=1.4.1 in /usr/local/lib/python3.9/dist-packages (from pynacl>=1.4.0->PyGithub<2,>=1.54->eth-ape) (1.15.1)\n",
            "Requirement already satisfied: wrapt<2,>=1.10 in /usr/local/lib/python3.9/dist-packages (from deprecated->PyGithub<2,>=1.54->eth-ape) (1.15.0)\n",
            "Collecting asttokens>=2.1.0\n",
            "  Downloading asttokens-2.2.1-py2.py3-none-any.whl (26 kB)\n",
            "Collecting executing>=1.2.0\n",
            "  Downloading executing-1.2.0-py2.py3-none-any.whl (24 kB)\n",
            "Collecting pure-eval\n",
            "  Downloading pure_eval-0.2.2-py3-none-any.whl (11 kB)\n",
            "Requirement already satisfied: pycparser in /usr/local/lib/python3.9/dist-packages (from cffi>=1.4.1->pynacl>=1.4.0->PyGithub<2,>=1.54->eth-ape) (2.21)\n",
            "Collecting safe-pysha3>=1.0.0\n",
            "  Downloading safe_pysha3-1.0.3-cp39-cp39-manylinux_2_17_x86_64.manylinux2014_x86_64.manylinux_2_28_x86_64.whl (150 kB)\n",
            "\u001b[2K     \u001b[90m━━━━━━━━━━━━━━━━━━━━━━━━━━━━━━━━━━━━━━\u001b[0m \u001b[32m150.4/150.4 KB\u001b[0m \u001b[31m17.7 MB/s\u001b[0m eta \u001b[36m0:00:00\u001b[0m\n",
            "\u001b[?25hCollecting netaddr\n",
            "  Downloading netaddr-0.8.0-py2.py3-none-any.whl (1.9 MB)\n",
            "\u001b[2K     \u001b[90m━━━━━━━━━━━━━━━━━━━━━━━━━━━━━━━━━━━━━━━━\u001b[0m \u001b[32m1.9/1.9 MB\u001b[0m \u001b[31m72.4 MB/s\u001b[0m eta \u001b[36m0:00:00\u001b[0m\n",
            "\u001b[?25hCollecting varint\n",
            "  Downloading varint-1.0.2.tar.gz (1.9 kB)\n",
            "  Preparing metadata (setup.py) ... \u001b[?25l\u001b[?25hdone\n",
            "Collecting python-baseconv<2.0,>=1.2.0\n",
            "  Downloading python-baseconv-1.2.2.tar.gz (4.9 kB)\n",
            "  Preparing metadata (setup.py) ... \u001b[?25l\u001b[?25hdone\n",
            "Collecting eth-bloom<2.0.0,>=1.0.3\n",
            "  Downloading eth_bloom-1.0.3-py3-none-any.whl (5.4 kB)\n",
            "INFO: pip is looking at multiple versions of cached-property to determine which version is compatible with other requirements. This could take a while.\n",
            "Collecting cached-property<2,>=1.5.1\n",
            "  Downloading cached_property-1.5.2-py2.py3-none-any.whl (7.6 kB)\n",
            "INFO: pip is looking at multiple versions of wcwidth to determine which version is compatible with other requirements. This could take a while.\n",
            "Collecting wcwidth\n",
            "  Downloading wcwidth-0.2.6-py2.py3-none-any.whl (29 kB)\n",
            "INFO: pip is looking at multiple versions of pyjwt to determine which version is compatible with other requirements. This could take a while.\n",
            "INFO: pip is looking at multiple versions of pure-eval to determine which version is compatible with other requirements. This could take a while.\n",
            "Collecting pure-eval\n",
            "  Downloading pure_eval-0.2.1-py3-none-any.whl (11 kB)\n",
            "INFO: pip is looking at multiple versions of eth-tester to determine which version is compatible with other requirements. This could take a while.\n",
            "INFO: pip is looking at multiple versions of yarl to determine which version is compatible with other requirements. This could take a while.\n",
            "Collecting yarl<2.0,>=1.0\n",
            "  Downloading yarl-1.8.1-cp39-cp39-manylinux_2_17_x86_64.manylinux2014_x86_64.whl (264 kB)\n",
            "\u001b[2K     \u001b[90m━━━━━━━━━━━━━━━━━━━━━━━━━━━━━━━━━━━━━━\u001b[0m \u001b[32m264.6/264.6 KB\u001b[0m \u001b[31m26.6 MB/s\u001b[0m eta \u001b[36m0:00:00\u001b[0m\n",
            "\u001b[?25hINFO: pip is looking at multiple versions of wrapt to determine which version is compatible with other requirements. This could take a while.\n",
            "Collecting wrapt<2,>=1.10\n",
            "  Downloading wrapt-1.15.0-cp39-cp39-manylinux_2_5_x86_64.manylinux1_x86_64.manylinux_2_17_x86_64.manylinux2014_x86_64.whl (78 kB)\n",
            "\u001b[2K     \u001b[90m━━━━━━━━━━━━━━━━━━━━━━━━━━━━━━━━━━━━━━━━\u001b[0m \u001b[32m78.3/78.3 KB\u001b[0m \u001b[31m9.7 MB/s\u001b[0m eta \u001b[36m0:00:00\u001b[0m\n",
            "\u001b[?25hINFO: pip is looking at multiple versions of toolz to determine which version is compatible with other requirements. This could take a while.\n",
            "Collecting toolz>=0.8.0\n",
            "  Downloading toolz-0.12.0-py3-none-any.whl (55 kB)\n",
            "\u001b[2K     \u001b[90m━━━━━━━━━━━━━━━━━━━━━━━━━━━━━━━━━━━━━━━━\u001b[0m \u001b[32m55.8/55.8 KB\u001b[0m \u001b[31m7.8 MB/s\u001b[0m eta \u001b[36m0:00:00\u001b[0m\n",
            "\u001b[?25hINFO: pip is looking at multiple versions of pyrsistent to determine which version is compatible with other requirements. This could take a while.\n",
            "Collecting pyrsistent!=0.17.0,!=0.17.1,!=0.17.2,>=0.14.0\n",
            "  Downloading pyrsistent-0.19.3-py3-none-any.whl (57 kB)\n",
            "\u001b[2K     \u001b[90m━━━━━━━━━━━━━━━━━━━━━━━━━━━━━━━━━━━━━━━━\u001b[0m \u001b[32m57.5/57.5 KB\u001b[0m \u001b[31m7.4 MB/s\u001b[0m eta \u001b[36m0:00:00\u001b[0m\n",
            "\u001b[?25hINFO: pip is looking at multiple versions of pycryptodome to determine which version is compatible with other requirements. This could take a while.\n",
            "Collecting pycryptodome<4,>=3.6.6\n",
            "  Downloading pycryptodome-3.16.0-cp35-abi3-manylinux_2_5_x86_64.manylinux1_x86_64.manylinux_2_12_x86_64.manylinux2010_x86_64.whl (2.3 MB)\n",
            "\u001b[2K     \u001b[90m━━━━━━━━━━━━━━━━━━━━━━━━━━━━━━━━━━━━━━━━\u001b[0m \u001b[32m2.3/2.3 MB\u001b[0m \u001b[31m61.3 MB/s\u001b[0m eta \u001b[36m0:00:00\u001b[0m\n",
            "\u001b[?25hINFO: pip is looking at multiple versions of py-multihash to determine which version is compatible with other requirements. This could take a while.\n",
            "Collecting py-multihash<1.0.0,>=0.2.0\n",
            "  Downloading py_multihash-0.2.2-py2.py3-none-any.whl (7.8 kB)\n",
            "INFO: pip is looking at multiple versions of py-multicodec to determine which version is compatible with other requirements. This could take a while.\n",
            "Collecting py-multicodec<0.3.0\n",
            "  Downloading py_multicodec-0.1.3-py2.py3-none-any.whl (6.6 kB)\n",
            "INFO: pip is looking at multiple versions of py-multibase to determine which version is compatible with other requirements. This could take a while.\n",
            "Collecting py-multibase<2.0.0,>=1.0.0\n",
            "  Downloading py_multibase-1.0.1-py2.py3-none-any.whl (7.3 kB)\n",
            "INFO: pip is looking at multiple versions of ptyprocess to determine which version is compatible with other requirements. This could take a while.\n",
            "Collecting ptyprocess>=0.5\n",
            "  Downloading ptyprocess-0.7.0-py2.py3-none-any.whl (13 kB)\n",
            "INFO: pip is looking at multiple versions of parso to determine which version is compatible with other requirements. This could take a while.\n",
            "Collecting parso<0.9.0,>=0.8.0\n",
            "  Downloading parso-0.8.3-py2.py3-none-any.whl (100 kB)\n",
            "\u001b[2K     \u001b[90m━━━━━━━━━━━━━━━━━━━━━━━━━━━━━━━━━━━━━━\u001b[0m \u001b[32m100.8/100.8 KB\u001b[0m \u001b[31m13.0 MB/s\u001b[0m eta \u001b[36m0:00:00\u001b[0m\n",
            "\u001b[?25hINFO: pip is looking at multiple versions of multidict to determine which version is compatible with other requirements. This could take a while.\n",
            "Collecting multidict<7.0,>=4.5\n",
            "  Downloading multidict-6.0.3-cp39-cp39-manylinux_2_17_x86_64.manylinux2014_x86_64.whl (114 kB)\n",
            "\u001b[2K     \u001b[90m━━━━━━━━━━━━━━━━━━━━━━━━━━━━━━━━━━━━━━\u001b[0m \u001b[32m114.2/114.2 KB\u001b[0m \u001b[31m13.3 MB/s\u001b[0m eta \u001b[36m0:00:00\u001b[0m\n",
            "\u001b[?25hINFO: pip is looking at multiple versions of multiaddr to determine which version is compatible with other requirements. This could take a while.\n",
            "Collecting multiaddr>=0.0.7\n",
            "  Downloading multiaddr-0.0.8-py2.py3-none-any.whl (15 kB)\n",
            "INFO: pip is looking at multiple versions of morphys to determine which version is compatible with other requirements. This could take a while.\n",
            "INFO: pip is looking at multiple versions of frozenlist to determine which version is compatible with other requirements. This could take a while.\n",
            "Collecting frozenlist>=1.1.1\n",
            "  Downloading frozenlist-1.3.1-cp39-cp39-manylinux_2_5_x86_64.manylinux1_x86_64.manylinux_2_17_x86_64.manylinux2014_x86_64.whl (158 kB)\n",
            "\u001b[2K     \u001b[90m━━━━━━━━━━━━━━━━━━━━━━━━━━━━━━━━━━━━━━\u001b[0m \u001b[32m158.8/158.8 KB\u001b[0m \u001b[31m19.7 MB/s\u001b[0m eta \u001b[36m0:00:00\u001b[0m\n",
            "\u001b[?25hINFO: pip is looking at multiple versions of executing to determine which version is compatible with other requirements. This could take a while.\n",
            "INFO: pip is looking at multiple versions of eth-hash[pysha3] to determine which version is compatible with other requirements. This could take a while.\n",
            "INFO: pip is looking at multiple versions of cryptography to determine which version is compatible with other requirements. This could take a while.\n",
            "Collecting cryptography>=3.4.0\n",
            "  Downloading cryptography-40.0.1-cp36-abi3-manylinux_2_28_x86_64.whl (3.7 MB)\n",
            "\u001b[2K     \u001b[90m━━━━━━━━━━━━━━━━━━━━━━━━━━━━━━━━━━━━━━━━\u001b[0m \u001b[32m3.7/3.7 MB\u001b[0m \u001b[31m70.0 MB/s\u001b[0m eta \u001b[36m0:00:00\u001b[0m\n",
            "\u001b[?25hINFO: pip is looking at multiple versions of cffi to determine which version is compatible with other requirements. This could take a while.\n",
            "Collecting cffi>=1.4.1\n",
            "  Downloading cffi-1.15.1-cp39-cp39-manylinux_2_17_x86_64.manylinux2014_x86_64.whl (441 kB)\n",
            "\u001b[2K     \u001b[90m━━━━━━━━━━━━━━━━━━━━━━━━━━━━━━━━━━━━━━\u001b[0m \u001b[32m441.2/441.2 KB\u001b[0m \u001b[31m36.3 MB/s\u001b[0m eta \u001b[36m0:00:00\u001b[0m\n",
            "\u001b[?25hINFO: pip is looking at multiple versions of base58 to determine which version is compatible with other requirements. This could take a while.\n",
            "Collecting base58<2.0,>=1.0.2\n",
            "  Downloading base58-1.0.2-py3-none-any.whl (3.3 kB)\n",
            "INFO: pip is looking at multiple versions of async-timeout to determine which version is compatible with other requirements. This could take a while.\n",
            "Collecting async-timeout<5.0,>=4.0.0a3\n",
            "  Downloading async_timeout-4.0.1-py3-none-any.whl (5.7 kB)\n",
            "INFO: pip is looking at multiple versions of asttokens to determine which version is compatible with other requirements. This could take a while.\n",
            "Collecting asttokens>=2.1.0\n",
            "  Downloading asttokens-2.2.0-py2.py3-none-any.whl (26 kB)\n",
            "INFO: pip is looking at multiple versions of aiosignal to determine which version is compatible with other requirements. This could take a while.\n",
            "Collecting aiosignal>=1.1.2\n",
            "  Downloading aiosignal-1.2.0-py3-none-any.whl (8.2 kB)\n",
            "INFO: pip is looking at multiple versions of web3 to determine which version is compatible with other requirements. This could take a while.\n",
            "INFO: pip is looking at multiple versions of stack-data to determine which version is compatible with other requirements. This could take a while.\n",
            "Collecting stack-data\n",
            "  Downloading stack_data-0.6.1-py3-none-any.whl (24 kB)\n",
            "INFO: pip is looking at multiple versions of eth-hash[pysha3] to determine which version is compatible with other requirements. This could take a while.\n",
            "INFO: pip is looking at multiple versions of pickleshare to determine which version is compatible with other requirements. This could take a while.\n",
            "Collecting pickleshare\n",
            "  Downloading pickleshare-0.7.5-py2.py3-none-any.whl (6.9 kB)\n",
            "INFO: pip is looking at multiple versions of matplotlib-inline to determine which version is compatible with other requirements. This could take a while.\n",
            "Collecting matplotlib-inline\n",
            "  Downloading matplotlib_inline-0.1.5-py3-none-any.whl (9.4 kB)\n",
            "INFO: pip is looking at multiple versions of iniconfig to determine which version is compatible with other requirements. This could take a while.\n",
            "Collecting iniconfig\n",
            "  Downloading iniconfig-2.0.0-py3-none-any.whl (5.9 kB)\n",
            "INFO: pip is looking at multiple versions of deprecated to determine which version is compatible with other requirements. This could take a while.\n",
            "Collecting deprecated\n",
            "  Downloading Deprecated-1.2.12-py2.py3-none-any.whl (9.5 kB)\n",
            "INFO: pip is looking at multiple versions of decorator to determine which version is compatible with other requirements. This could take a while.\n",
            "Collecting decorator\n",
            "  Downloading decorator-5.1.1-py3-none-any.whl (9.1 kB)\n",
            "INFO: This is taking longer than usual. You might need to provide the dependency resolver with stricter constraints to reduce runtime. See https://pip.pypa.io/warnings/backtracking for guidance. If you want to abort this run, press Ctrl + C.\n",
            "INFO: pip is looking at multiple versions of backcall to determine which version is compatible with other requirements. This could take a while.\n",
            "Collecting backcall\n",
            "  Downloading backcall-0.2.0-py2.py3-none-any.whl (11 kB)\n",
            "INFO: pip is looking at multiple versions of web3 to determine which version is compatible with other requirements. This could take a while.\n",
            "INFO: pip is looking at multiple versions of zipp to determine which version is compatible with other requirements. This could take a while.\n",
            "Collecting zipp>=0.5\n",
            "  Downloading zipp-3.15.0-py3-none-any.whl (6.8 kB)\n",
            "INFO: pip is looking at multiple versions of websockets to determine which version is compatible with other requirements. This could take a while.\n",
            "Collecting websockets<11,>=10.0.0\n",
            "  Downloading websockets-10.3-cp39-cp39-manylinux_2_5_x86_64.manylinux1_x86_64.manylinux_2_12_x86_64.manylinux2010_x86_64.whl (111 kB)\n",
            "\u001b[2K     \u001b[90m━━━━━━━━━━━━━━━━━━━━━━━━━━━━━━━━━━━━━━━\u001b[0m \u001b[32m111.3/111.3 KB\u001b[0m \u001b[31m9.4 MB/s\u001b[0m eta \u001b[36m0:00:00\u001b[0m\n",
            "\u001b[?25hINFO: pip is looking at multiple versions of urllib3 to determine which version is compatible with other requirements. This could take a while.\n",
            "Collecting urllib3<1.27,>=1.21.1\n",
            "  Downloading urllib3-1.26.15-py2.py3-none-any.whl (140 kB)\n",
            "\u001b[2K     \u001b[90m━━━━━━━━━━━━━━━━━━━━━━━━━━━━━━━━━━━━━━\u001b[0m \u001b[32m140.9/140.9 KB\u001b[0m \u001b[31m15.1 MB/s\u001b[0m eta \u001b[36m0:00:00\u001b[0m\n",
            "\u001b[?25hINFO: pip is looking at multiple versions of typing-extensions to determine which version is compatible with other requirements. This could take a while.\n",
            "Collecting typing-extensions>=4.2.0\n",
            "  Downloading typing_extensions-4.5.0-py3-none-any.whl (27 kB)\n",
            "INFO: pip is looking at multiple versions of tomli to determine which version is compatible with other requirements. This could take a while.\n",
            "Collecting tomli>=1.0.0\n",
            "  Downloading tomli-2.0.1-py3-none-any.whl (12 kB)\n",
            "INFO: This is taking longer than usual. You might need to provide the dependency resolver with stricter constraints to reduce runtime. See https://pip.pypa.io/warnings/backtracking for guidance. If you want to abort this run, press Ctrl + C.\n",
            "INFO: pip is looking at multiple versions of six to determine which version is compatible with other requirements. This could take a while.\n",
            "Collecting six>=1.5\n",
            "  Downloading six-1.16.0-py2.py3-none-any.whl (11 kB)\n",
            "INFO: pip is looking at multiple versions of semantic-version to determine which version is compatible with other requirements. This could take a while.\n",
            "Collecting semantic-version<3.0.0,>=2.6.0\n",
            "  Downloading semantic_version-2.9.0-py2.py3-none-any.whl (15 kB)\n",
            "INFO: pip is looking at multiple versions of rlp to determine which version is compatible with other requirements. This could take a while.\n",
            "INFO: pip is looking at multiple versions of pytz to determine which version is compatible with other requirements. This could take a while.\n",
            "Collecting pytz>=2020.1\n",
            "  Downloading pytz-2023.2-py2.py3-none-any.whl (502 kB)\n",
            "\u001b[2K     \u001b[90m━━━━━━━━━━━━━━━━━━━━━━━━━━━━━━━━━━━━━━\u001b[0m \u001b[32m502.1/502.1 KB\u001b[0m \u001b[31m41.9 MB/s\u001b[0m eta \u001b[36m0:00:00\u001b[0m\n",
            "\u001b[?25hINFO: pip is looking at multiple versions of pyparsing to determine which version is compatible with other requirements. This could take a while.\n",
            "Collecting pyparsing!=3.0.5,>=2.0.2\n",
            "  Downloading pyparsing-3.0.9-py3-none-any.whl (98 kB)\n",
            "\u001b[2K     \u001b[90m━━━━━━━━━━━━━━━━━━━━━━━━━━━━━━━━━━━━━━━━\u001b[0m \u001b[32m98.3/98.3 KB\u001b[0m \u001b[31m12.7 MB/s\u001b[0m eta \u001b[36m0:00:00\u001b[0m\n",
            "\u001b[?25hINFO: pip is looking at multiple versions of pynacl to determine which version is compatible with other requirements. This could take a while.\n",
            "Collecting pynacl>=1.4.0\n",
            "  Downloading PyNaCl-1.4.0-cp35-abi3-manylinux1_x86_64.whl (961 kB)\n",
            "\u001b[2K     \u001b[90m━━━━━━━━━━━━━━━━━━━━━━━━━━━━━━━━━━━━━━\u001b[0m \u001b[32m961.1/961.1 KB\u001b[0m \u001b[31m61.0 MB/s\u001b[0m eta \u001b[36m0:00:00\u001b[0m\n",
            "\u001b[?25hINFO: pip is looking at multiple versions of pyjwt[crypto] to determine which version is compatible with other requirements. This could take a while.\n",
            "Collecting pyjwt[crypto]>=2.4.0\n",
            "  Downloading PyJWT-2.5.0-py3-none-any.whl (20 kB)\n",
            "INFO: pip is looking at multiple versions of pygments to determine which version is compatible with other requirements. This could take a while.\n",
            "Collecting pygments>=2.4.0\n",
            "  Downloading Pygments-2.14.0-py3-none-any.whl (1.1 MB)\n",
            "\u001b[2K     \u001b[90m━━━━━━━━━━━━━━━━━━━━━━━━━━━━━━━━━━━━━━━━\u001b[0m \u001b[32m1.1/1.1 MB\u001b[0m \u001b[31m65.2 MB/s\u001b[0m eta \u001b[36m0:00:00\u001b[0m\n",
            "\u001b[?25hINFO: pip is looking at multiple versions of py-cid to determine which version is compatible with other requirements. This could take a while.\n",
            "INFO: pip is looking at multiple versions of protobuf to determine which version is compatible with other requirements. This could take a while.\n",
            "Collecting protobuf>=4.21.6\n",
            "  Downloading protobuf-4.22.0-cp37-abi3-manylinux2014_x86_64.whl (302 kB)\n",
            "\u001b[2K     \u001b[90m━━━━━━━━━━━━━━━━━━━━━━━━━━━━━━━━━━━━━━\u001b[0m \u001b[32m302.4/302.4 KB\u001b[0m \u001b[31m32.4 MB/s\u001b[0m eta \u001b[36m0:00:00\u001b[0m\n",
            "\u001b[?25hINFO: pip is looking at multiple versions of prompt-toolkit to determine which version is compatible with other requirements. This could take a while.\n",
            "Collecting prompt-toolkit!=3.0.37,<3.1.0,>=3.0.30\n",
            "  Downloading prompt_toolkit-3.0.36-py3-none-any.whl (386 kB)\n",
            "\u001b[2K     \u001b[90m━━━━━━━━━━━━━━━━━━━━━━━━━━━━━━━━━━━━━━\u001b[0m \u001b[32m386.4/386.4 KB\u001b[0m \u001b[31m38.8 MB/s\u001b[0m eta \u001b[36m0:00:00\u001b[0m\n",
            "\u001b[?25hINFO: pip is looking at multiple versions of pexpect to determine which version is compatible with other requirements. This could take a while.\n",
            "Collecting pexpect>4.3\n",
            "  Downloading pexpect-4.8.0-py2.py3-none-any.whl (59 kB)\n",
            "\u001b[2K     \u001b[90m━━━━━━━━━━━━━━━━━━━━━━━━━━━━━━━━━━━━━━━━\u001b[0m \u001b[32m59.0/59.0 KB\u001b[0m \u001b[31m5.6 MB/s\u001b[0m eta \u001b[36m0:00:00\u001b[0m\n",
            "\u001b[?25hINFO: pip is looking at multiple versions of parsimonious to determine which version is compatible with other requirements. This could take a while.\n",
            "Collecting parsimonious<0.9.0,>=0.8.0\n",
            "  Downloading parsimonious-0.8.0.tar.gz (38 kB)\n",
            "  Preparing metadata (setup.py) ... \u001b[?25l\u001b[?25hdone\n",
            "INFO: pip is looking at multiple versions of numpy to determine which version is compatible with other requirements. This could take a while.\n",
            "Collecting numpy>=1.18.5\n",
            "  Downloading numpy-1.24.2-cp39-cp39-manylinux_2_17_x86_64.manylinux2014_x86_64.whl (17.3 MB)\n",
            "\u001b[2K     \u001b[90m━━━━━━━━━━━━━━━━━━━━━━━━━━━━━━━━━━━━━━━━\u001b[0m \u001b[32m17.3/17.3 MB\u001b[0m \u001b[31m47.9 MB/s\u001b[0m eta \u001b[36m0:00:00\u001b[0m\n",
            "\u001b[?25hINFO: pip is looking at multiple versions of msgspec to determine which version is compatible with other requirements. This could take a while.\n",
            "Collecting msgspec>=0.8\n",
            "  Downloading msgspec-0.12.0-cp39-cp39-manylinux_2_17_x86_64.manylinux2014_x86_64.whl (155 kB)\n",
            "\u001b[2K     \u001b[90m━━━━━━━━━━━━━━━━━━━━━━━━━━━━━━━━━━━━━━\u001b[0m \u001b[32m155.6/155.6 KB\u001b[0m \u001b[31m17.2 MB/s\u001b[0m eta \u001b[36m0:00:00\u001b[0m\n",
            "\u001b[?25hINFO: pip is looking at multiple versions of lru-dict to determine which version is compatible with other requirements. This could take a while.\n",
            "Collecting lru-dict<2.0.0,>=1.1.6\n",
            "  Downloading lru-dict-1.1.7.tar.gz (10 kB)\n",
            "  Preparing metadata (setup.py) ... \u001b[?25l\u001b[?25hdone\n",
            "INFO: pip is looking at multiple versions of jsonschema to determine which version is compatible with other requirements. This could take a while.\n",
            "Collecting jsonschema<5,>=4.0.0\n",
            "  Downloading jsonschema-4.17.3-py3-none-any.whl (90 kB)\n",
            "\u001b[2K     \u001b[90m━━━━━━━━━━━━━━━━━━━━━━━━━━━━━━━━━━━━━━━━\u001b[0m \u001b[32m90.4/90.4 KB\u001b[0m \u001b[31m7.9 MB/s\u001b[0m eta \u001b[36m0:00:00\u001b[0m\n",
            "\u001b[?25hINFO: pip is looking at multiple versions of jedi to determine which version is compatible with other requirements. This could take a while.\n",
            "Collecting jedi>=0.16\n",
            "  Downloading jedi-0.18.1-py2.py3-none-any.whl (1.6 MB)\n",
            "\u001b[2K     \u001b[90m━━━━━━━━━━━━━━━━━━━━━━━━━━━━━━━━━━━━━━━━\u001b[0m \u001b[32m1.6/1.6 MB\u001b[0m \u001b[31m51.4 MB/s\u001b[0m eta \u001b[36m0:00:00\u001b[0m\n",
            "\u001b[?25hINFO: pip is looking at multiple versions of idna to determine which version is compatible with other requirements. This could take a while.\n",
            "Collecting idna<4,>=2.5\n",
            "  Downloading idna-3.4-py3-none-any.whl (61 kB)\n",
            "\u001b[2K     \u001b[90m━━━━━━━━━━━━━━━━━━━━━━━━━━━━━━━━━━━━━━━━\u001b[0m \u001b[32m61.5/61.5 KB\u001b[0m \u001b[31m8.6 MB/s\u001b[0m eta \u001b[36m0:00:00\u001b[0m\n",
            "\u001b[?25hINFO: pip is looking at multiple versions of greenlet to determine which version is compatible with other requirements. This could take a while.\n",
            "Collecting greenlet!=0.4.17\n",
            "  Downloading greenlet-2.0.2-cp39-cp39-manylinux_2_17_x86_64.manylinux2014_x86_64.whl (610 kB)\n",
            "\u001b[2K     \u001b[90m━━━━━━━━━━━━━━━━━━━━━━━━━━━━━━━━━━━━━━\u001b[0m \u001b[32m610.9/610.9 KB\u001b[0m \u001b[31m45.9 MB/s\u001b[0m eta \u001b[36m0:00:00\u001b[0m\n",
            "\u001b[?25hINFO: pip is looking at multiple versions of exceptiongroup to determine which version is compatible with other requirements. This could take a while.\n",
            "Collecting exceptiongroup>=1.0.0rc8\n",
            "  Downloading exceptiongroup-1.1.1-py3-none-any.whl (14 kB)\n",
            "INFO: pip is looking at multiple versions of eth-rlp to determine which version is compatible with other requirements. This could take a while.\n",
            "INFO: pip is looking at multiple versions of eth-keys to determine which version is compatible with other requirements. This could take a while.\n",
            "INFO: pip is looking at multiple versions of eth-keyfile to determine which version is compatible with other requirements. This could take a while.\n",
            "Collecting eth-keyfile<0.7.0,>=0.6.0\n",
            "  Downloading eth_keyfile-0.6.0-py3-none-any.whl (6.6 kB)\n",
            "INFO: pip is looking at multiple versions of eth-hash[pycryptodome] to determine which version is compatible with other requirements. This could take a while.\n",
            "Collecting eth-hash[pycryptodome]<1.0.0,>=0.2.0\n",
            "  Downloading eth_hash-0.5.0-py3-none-any.whl (8.9 kB)\n",
            "Collecting pysha3<2.0.0,>=1.0.0\n",
            "  Downloading pysha3-1.0.2.tar.gz (829 kB)\n",
            "\u001b[2K     \u001b[90m━━━━━━━━━━━━━━━━━━━━━━━━━━━━━━━━━━━━━━\u001b[0m \u001b[32m829.2/829.2 KB\u001b[0m \u001b[31m60.1 MB/s\u001b[0m eta \u001b[36m0:00:00\u001b[0m\n",
            "\u001b[?25h  Preparing metadata (setup.py) ... \u001b[?25l\u001b[?25hdone\n",
            "INFO: pip is looking at multiple versions of eth-hash to determine which version is compatible with other requirements. This could take a while.\n",
            "Collecting eth-hash[pycryptodome]<1.0.0,>=0.2.0\n",
            "  Downloading eth_hash-0.4.0-py3-none-any.whl (9.0 kB)\n",
            "  Downloading eth_hash-0.3.3-py3-none-any.whl (8.9 kB)\n",
            "Requirement already satisfied: sortedcontainers<3,>=2.1.0 in /usr/local/lib/python3.9/dist-packages (from trie<3,>=2.0.0->py-evm==0.6.0a1->eth-tester[py-evm]==v0.7.0-beta.1->web3[tester]==6.0.0b7->eth-ape) (2.4.0)\n",
            "Building wheels for collected packages: parsimonious, mypy-extensions, pyethash, pysha3, python-baseconv, varint\n",
            "  Building wheel for parsimonious (setup.py) ... \u001b[?25l\u001b[?25hdone\n",
            "  Created wheel for parsimonious: filename=parsimonious-0.8.1-py3-none-any.whl size=42725 sha256=2ef980f04af9d4dea5f118f85a8198eb865f9de50f222df1d42335e5c36d1fc6\n",
            "  Stored in directory: /root/.cache/pip/wheels/ae/3f/87/24298980f6c0436680b8b64caac154f542e138487ed0f90f2a\n",
            "  Building wheel for mypy-extensions (setup.py) ... \u001b[?25l\u001b[?25hdone\n",
            "  Created wheel for mypy-extensions: filename=mypy_extensions-0.4.4-py2.py3-none-any.whl size=4495 sha256=795f790e551484c7ecd487d6068f7dc01921e7783caf93a58c2e1ed4330e0514\n",
            "  Stored in directory: /root/.cache/pip/wheels/5e/53/31/a2f6574f22c8f2d131a5ab0b5f59fa04bc9666517f214243c9\n",
            "  Building wheel for pyethash (setup.py) ... \u001b[?25l\u001b[?25hdone\n",
            "  Created wheel for pyethash: filename=pyethash-0.1.27-cp39-cp39-linux_x86_64.whl size=56460 sha256=4402b3ccd2f46f495bdbed33fb881dba34c70e9024709282ee1fe2ebe7e9b363\n",
            "  Stored in directory: /root/.cache/pip/wheels/4c/18/f0/cd1732ca0b05b39f2bcdf668b335811e89e74f46e8ca19efaf\n",
            "  Building wheel for pysha3 (setup.py) ... \u001b[?25l\u001b[?25hdone\n",
            "  Created wheel for pysha3: filename=pysha3-1.0.2-cp39-cp39-linux_x86_64.whl size=152340 sha256=984acbb70c99d670e8ea87c6cf28127b433b02936b02b1d36372e774f69c36a7\n",
            "  Stored in directory: /root/.cache/pip/wheels/17/9d/00/86e22a32b0109bd3c8797adf13a74427aa38e6ad1135633d50\n",
            "  Building wheel for python-baseconv (setup.py) ... \u001b[?25l\u001b[?25hdone\n",
            "  Created wheel for python-baseconv: filename=python_baseconv-1.2.2-py3-none-any.whl size=5507 sha256=67c86a68694922834f9efc3b2f2407058d58df5eaf11e987291a71287a582c92\n",
            "  Stored in directory: /root/.cache/pip/wheels/5a/5c/e6/ea4b6a9d54dfaea26de9aa02f2ec9a255dfd49b1928b825921\n",
            "  Building wheel for varint (setup.py) ... \u001b[?25l\u001b[?25hdone\n",
            "  Created wheel for varint: filename=varint-1.0.2-py3-none-any.whl size=1980 sha256=ec58837648df5438659a7e933863538b4e36a4664e7dee1e32420a328ac92106\n",
            "  Stored in directory: /root/.cache/pip/wheels/4b/47/bb/e4fd5cf6101ed8d6a9c52ff50e37bfb908ffdf330ddbbf9550\n",
            "Successfully built parsimonious mypy-extensions pyethash pysha3 python-baseconv varint\n",
            "Installing collected packages: varint, python-baseconv, pysha3, pyethash, pure-eval, netaddr, morphys, lru-dict, ijson, executing, commonmark, bitarray, base58, websockets, watchdog, semantic-version, rich, requests, pyjwt, pycryptodome, py-multihash, py-multicodec, py-multibase, protobuf, prompt-toolkit, parsimonious, packaging, mypy-extensions, multidict, multiaddr, msgspec, matplotlib-inline, jedi, hexbytes, frozenlist, eth-typing, eth-hash, deprecated, dataclassy, cytoolz, async-timeout, asttokens, yarl, stack-data, pynacl, py-geth, py-cid, ipfshttpclient, eth-utils, aiosignal, rlp, py-ecc, ipython, ethpm-types, eth-keys, eth-bloom, eth-abi, aiohttp, trie, PyGithub, eth-rlp, eth-keyfile, py-evm, eth-account, web3, evm-trace, eth-tester, eip712, eth-ape\n",
            "  Attempting uninstall: rich\n",
            "    Found existing installation: rich 13.3.2\n",
            "    Uninstalling rich-13.3.2:\n",
            "      Successfully uninstalled rich-13.3.2\n",
            "  Attempting uninstall: requests\n",
            "    Found existing installation: requests 2.27.1\n",
            "    Uninstalling requests-2.27.1:\n",
            "      Successfully uninstalled requests-2.27.1\n",
            "  Attempting uninstall: protobuf\n",
            "    Found existing installation: protobuf 3.19.6\n",
            "    Uninstalling protobuf-3.19.6:\n",
            "      Successfully uninstalled protobuf-3.19.6\n",
            "  Attempting uninstall: prompt-toolkit\n",
            "    Found existing installation: prompt-toolkit 2.0.10\n",
            "    Uninstalling prompt-toolkit-2.0.10:\n",
            "      Successfully uninstalled prompt-toolkit-2.0.10\n",
            "  Attempting uninstall: packaging\n",
            "    Found existing installation: packaging 23.0\n",
            "    Uninstalling packaging-23.0:\n",
            "      Successfully uninstalled packaging-23.0\n",
            "  Attempting uninstall: ipython\n",
            "    Found existing installation: ipython 7.9.0\n",
            "    Uninstalling ipython-7.9.0:\n",
            "      Successfully uninstalled ipython-7.9.0\n",
            "\u001b[31mERROR: pip's dependency resolver does not currently take into account all the packages that are installed. This behaviour is the source of the following dependency conflicts.\n",
            "tensorflow 2.11.0 requires protobuf<3.20,>=3.9.2, but you have protobuf 4.22.1 which is incompatible.\n",
            "tensorflow-metadata 1.12.0 requires protobuf<4,>=3.13, but you have protobuf 4.22.1 which is incompatible.\n",
            "tensorboard 2.11.2 requires protobuf<4,>=3.9.2, but you have protobuf 4.22.1 which is incompatible.\n",
            "google-colab 1.0.0 requires ipython~=7.9.0, but you have ipython 8.11.0 which is incompatible.\u001b[0m\u001b[31m\n",
            "\u001b[0mSuccessfully installed PyGithub-1.58.1 aiohttp-3.8.4 aiosignal-1.3.1 asttokens-2.2.1 async-timeout-4.0.2 base58-1.0.3 bitarray-2.7.3 commonmark-0.9.1 cytoolz-0.12.1 dataclassy-0.11.1 deprecated-1.2.13 eip712-0.2.0 eth-abi-3.0.1 eth-account-0.7.0 eth-ape-0.6.6 eth-bloom-1.0.4 eth-hash-0.3.3 eth-keyfile-0.6.1 eth-keys-0.4.0 eth-rlp-0.3.0 eth-tester-0.7.0b1 eth-typing-3.3.0 eth-utils-2.1.0 ethpm-types-0.4.1 evm-trace-0.1.0a17 executing-1.2.0 frozenlist-1.3.3 hexbytes-0.3.0 ijson-3.2.0.post0 ipfshttpclient-0.8.0a2 ipython-8.11.0 jedi-0.18.2 lru-dict-1.1.8 matplotlib-inline-0.1.6 morphys-1.0 msgspec-0.13.1 multiaddr-0.0.9 multidict-6.0.4 mypy-extensions-0.4.4 netaddr-0.8.0 packaging-21.3 parsimonious-0.8.1 prompt-toolkit-3.0.38 protobuf-4.22.1 pure-eval-0.2.2 py-cid-0.3.0 py-ecc-6.0.0 py-evm-0.6.0a1 py-geth-3.12.0 py-multibase-1.0.3 py-multicodec-0.2.1 py-multihash-0.2.3 pycryptodome-3.17 pyethash-0.1.27 pyjwt-2.6.0 pynacl-1.5.0 pysha3-1.0.2 python-baseconv-1.2.2 requests-2.28.2 rich-12.6.0 rlp-3.0.0 semantic-version-2.10.0 stack-data-0.6.2 trie-2.1.0 varint-1.0.2 watchdog-2.3.1 web3-6.0.0b7 websockets-10.4 yarl-1.8.2\n"
          ]
        }
      ],
      "source": [
        "# This command installs Ape.\n",
        "\n",
        "!pip3 install eth-ape"
      ]
    },
    {
      "cell_type": "code",
      "source": [
        "# By installing plugins, you can expand the functionality of Ape.\n",
        "# This plugin allows you to use the Alchemy API with Ape.\n",
        "# Alchemy's API allows applications to connect to a blockchain node and thereby \n",
        "# interact with on-chain data + send transactions.\n",
        "\n",
        "!pip3 install ape-alchemy"
      ],
      "metadata": {
        "id": "x4jOU4jXrx43"
      },
      "execution_count": null,
      "outputs": []
    },
    {
      "cell_type": "code",
      "source": [
        "# This plugin assists with fetching contract data.\n",
        "\n",
        "!pip3 install ape-etherscan"
      ],
      "metadata": {
        "id": "gHj9kewusEW8"
      },
      "execution_count": null,
      "outputs": []
    },
    {
      "cell_type": "markdown",
      "source": [
        "Once you run the code blocks above, you will need to restart the runtime by selecting Runtime -> Restart Runtime in the top menu. Once you have done that you can continue on."
      ],
      "metadata": {
        "id": "6ARlXLBitqlX"
      }
    },
    {
      "cell_type": "markdown",
      "source": [
        "## Step 2: Connecting to Ethereum"
      ],
      "metadata": {
        "id": "Z8cSEuOjyAC4"
      }
    },
    {
      "cell_type": "code",
      "source": [
        "# This command imports the Ape libraries you will need.\n",
        "\n",
        "from ape import chain, networks, Contract"
      ],
      "metadata": {
        "id": "p34CRjMytmxc"
      },
      "execution_count": null,
      "outputs": []
    },
    {
      "cell_type": "markdown",
      "source": [
        "In the code block below, replace ENTER_API_KEY_HERE with your Alchemy Ethereum \n",
        "API key. "
      ],
      "metadata": {
        "id": "MhJI1KBzvnns"
      }
    },
    {
      "cell_type": "code",
      "source": [
        "%env WEB3_ALCHEMY_API_KEY= ENTER_API_KEY_HERE"
      ],
      "metadata": {
        "id": "-tciTbq6vRQz"
      },
      "execution_count": null,
      "outputs": []
    },
    {
      "cell_type": "code",
      "source": [
        "# You can connect to any EVM chain using Ape, as long as there is a plugin for it. \n",
        "# Ape supports Ethereum mainnet without the need for additional plugins.\n",
        "# This code block connects you to Ethereum using the Alchemy API.\n",
        "\n",
        "network_choice = 'ethereum:mainnet:alchemy'\n",
        "context = networks.parse_network_choice(network_choice)\n",
        "\n",
        "with context:\n",
        "  provider_config = context.provider.config\n",
        "  context.__enter__()"
      ],
      "metadata": {
        "id": "BCMO1bbBwM7O"
      },
      "execution_count": null,
      "outputs": []
    },
    {
      "cell_type": "markdown",
      "source": [
        "# Step 3: Read current data from a contract\n",
        "\n"
      ],
      "metadata": {
        "id": "gVFU4C9byFIR"
      }
    },
    {
      "cell_type": "code",
      "source": [
        "# Using this command, you create an interactive instance of the USDC smart contract.\n",
        "\n",
        "usdc = Contract(\"0xA0b86991c6218b36c1d19D4a2e9Eb0cE3606eB48\")"
      ],
      "metadata": {
        "id": "4347CsihyX1Y"
      },
      "execution_count": null,
      "outputs": []
    },
    {
      "cell_type": "markdown",
      "source": [
        "Check how much USDC the Uniswap DAI/USDC pool holds"
      ],
      "metadata": {
        "id": "rn1knzNR01T4"
      }
    },
    {
      "cell_type": "code",
      "source": [
        "# Using this command you call the balanceOf() function of the USDC smart contract \n",
        "# to check the current balance of the Uniswap DAI/USDC 0.01% pool and \n",
        "# print the result.\n",
        "\n",
        "print(usdc.balanceOf('0x5777d92f208679db4b9778590fa3cab3ac9e2168'))"
      ],
      "metadata": {
        "id": "amnoRzkD0yUT"
      },
      "execution_count": null,
      "outputs": []
    },
    {
      "cell_type": "markdown",
      "source": [
        "# Step 4: Read historical event data"
      ],
      "metadata": {
        "id": "ktXWUCrI3EOz"
      }
    },
    {
      "cell_type": "markdown",
      "source": [
        "Whenever a smart contract emits an event (for example, the event of a token transfer, a deposit, a swap .etc) a log of that event is written to the blockchain and you can read it later."
      ],
      "metadata": {
        "id": "JQvzaVmr3Va9"
      }
    },
    {
      "cell_type": "code",
      "source": [
        "# Using this command, you create an interactive instance of the Webaverse\n",
        "# NFT smart contract.\n",
        "\n",
        "webaverse_nft = Contract(\"0x543D43F390b7d681513045e8a85707438c463d80\")"
      ],
      "metadata": {
        "id": "GKw3kHxp3DvU"
      },
      "execution_count": null,
      "outputs": []
    },
    {
      "cell_type": "code",
      "source": [
        "# Using this command you pull all the logs corresponding to the contract's \n",
        "# Transfer events that occured between block 15354270 and block 15354350.\n",
        "\n",
        "nft_transfers = [log for log in webaverse_nft.Transfer.range(15354270,15354350)]"
      ],
      "metadata": {
        "id": "LG1l8CKz4xzd"
      },
      "execution_count": null,
      "outputs": []
    },
    {
      "cell_type": "code",
      "source": [
        "# Using this command you can view the log data you just pulled. The Transfer\n",
        "# event includes data on who sent the NFT, who received it and the NFT id\n",
        "\n",
        "nft_transfers"
      ],
      "metadata": {
        "id": "5CI78sdA5WR8"
      },
      "execution_count": null,
      "outputs": []
    },
    {
      "cell_type": "markdown",
      "source": [
        "# End of Lesson\n",
        "\n",
        "Congratulations! 🥳🥳🥳\n",
        "\n",
        "In this lesson you learnt how to read data on the current state of a smart contract and read historical data of contract events.\n",
        "\n",
        "Try editing the notebook to investigate the data of different Ethereum contracts!\n",
        "\n",
        "Then move on to lesson 2 where you will learn to execute transactions using Ape 👇\n",
        "\n",
        "https://colab.research.google.com/drive/1BAB6D-GDsZY2e3ZuGy0Pid4II8tpil6L?usp=sharing"
      ],
      "metadata": {
        "id": "J6PphhQu5pdd"
      }
    },
    {
      "cell_type": "code",
      "source": [],
      "metadata": {
        "id": "Ll-Fszt16w2C"
      },
      "execution_count": null,
      "outputs": []
    }
  ]
}