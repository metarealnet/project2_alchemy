{
  "nbformat": 4,
  "nbformat_minor": 0,
  "metadata": {
    "colab": {
      "provenance": [],
      "include_colab_link": true
    },
    "kernelspec": {
      "name": "python3",
      "display_name": "Python 3"
    },
    "language_info": {
      "name": "python"
    }
  },
  "cells": [
    {
      "cell_type": "markdown",
      "metadata": {
        "id": "view-in-github",
        "colab_type": "text"
      },
      "source": [
        "<a href=\"https://colab.research.google.com/github/metarealnet/project2_alchemy/blob/main/CK___C_opy_of_Execute_Transactions.ipynb\" target=\"_parent\"><img src=\"https://colab.research.google.com/assets/colab-badge.svg\" alt=\"Open In Colab\"/></a>"
      ]
    },
    {
      "cell_type": "markdown",
      "source": [
        "# Executing Transactions with ApeWorX\n",
        "\n",
        "Ape is a Python-based toolkit for developing smart contracts, interacting with them, and getting on-chain data. \n",
        "\n",
        "In this lesson, you'll learn how to use Ape to execute transactions using code. You can use Ape to automate any type of transaction from token transfers to NFT purchases to DEX swaps. The possibilities are endless!"
      ],
      "metadata": {
        "id": "K00g_QE78JBC"
      }
    },
    {
      "cell_type": "markdown",
      "source": [
        "## Step 1:  Installing Ape"
      ],
      "metadata": {
        "id": "kYRMFxOu9Dw8"
      }
    },
    {
      "cell_type": "code",
      "execution_count": null,
      "metadata": {
        "id": "XxdB4dVs8E9P"
      },
      "outputs": [],
      "source": [
        "# This command installs Ape.\n",
        "\n",
        "!pip3 install eth-ape"
      ]
    },
    {
      "cell_type": "code",
      "source": [
        "# By installing plugins, you can expand the functionality of Ape.\n",
        "# This plugin allows you to use Alchemy API with Ape.\n",
        "# Alchemy's API allows applications to connect to a blockchain node and thereby \n",
        "# interact with on-chain data + send transactions.\n",
        "\n",
        "!pip3 install ape-alchemy"
      ],
      "metadata": {
        "id": "GHue55As-JNY"
      },
      "execution_count": null,
      "outputs": []
    },
    {
      "cell_type": "code",
      "source": [
        "# This plugin assists with fetching contract data.\n",
        "\n",
        "!pip3 install ape-etherscan"
      ],
      "metadata": {
        "id": "ArZmQXTS-OCU"
      },
      "execution_count": null,
      "outputs": []
    },
    {
      "cell_type": "markdown",
      "source": [
        "Once you run the code blocks above, you will need to restart the runtime by selecting Runtime -> Restart Runtime in the top menu. Once you have done that you can continue on."
      ],
      "metadata": {
        "id": "zSByGDQIBfNi"
      }
    },
    {
      "cell_type": "markdown",
      "source": [
        "## Step 2: Connecting to an Ethereum testnet"
      ],
      "metadata": {
        "id": "PoX-cYwNBiD1"
      }
    },
    {
      "cell_type": "code",
      "source": [
        "# This command imports the Ape libraries you will need.\n",
        "\n",
        "from ape import chain, networks, accounts, Contract"
      ],
      "metadata": {
        "id": "pvEsu8H4Bf_J"
      },
      "execution_count": null,
      "outputs": []
    },
    {
      "cell_type": "markdown",
      "source": [
        "In the code block below, replace ENTER_API_KEY_HERE with your Alchemy Goerli testnet API key. "
      ],
      "metadata": {
        "id": "d-eM6GGNBv1Q"
      }
    },
    {
      "cell_type": "code",
      "source": [
        "%env WEB3_ALCHEMY_API_KEY = ENTER_API_KEY_HERE"
      ],
      "metadata": {
        "id": "w2ivQnQ1BxSy"
      },
      "execution_count": null,
      "outputs": []
    },
    {
      "cell_type": "markdown",
      "source": [
        "You can connect to any EVM chain using Ape, as long as there is a plugin for it. \n",
        "\n",
        "\n",
        "Ape can also connect you to a blockchain's testnet. \n",
        "\n",
        "\n",
        "A testnet is a network used by devs to try out contracts and protocol upgrades in a low risk environment.\n",
        "\n",
        "\n",
        "On a testnet, you can use fake tokens and interact with contracts as if you were on the real deal"
      ],
      "metadata": {
        "id": "V99JSIgTFXYB"
      }
    },
    {
      "cell_type": "code",
      "source": [
        "# This code block connects you to Ethereum's Goerli testnet\n",
        "\n",
        "network_choice = 'ethereum:goerli:alchemy'\n",
        "context = networks.parse_network_choice(network_choice)\n",
        "\n",
        "with context:\n",
        "  provider_config = context.provider.config\n",
        "  context.__enter__()"
      ],
      "metadata": {
        "id": "flOilVmdB3mJ"
      },
      "execution_count": null,
      "outputs": []
    },
    {
      "cell_type": "markdown",
      "source": [
        "## Step 3: Creating a wallet"
      ],
      "metadata": {
        "id": "IknQ9ZYA2i5X"
      }
    },
    {
      "cell_type": "markdown",
      "source": [
        "You can't execute transactions without a wallet or a contract. In this section we're going to create a wallet and fund it with testnet ETH so that we can make transactions."
      ],
      "metadata": {
        "id": "3znu0bz5lN9z"
      }
    },
    {
      "cell_type": "code",
      "source": [
        "# Use this command to generate a new wallet. \n",
        "# Note the address of the wallet and the passphrase you set for it. \n",
        "# You will need those for the next steps.\n",
        "\n",
        "!ape accounts generate testwallet"
      ],
      "metadata": {
        "id": "41O8Y_3NHzc_"
      },
      "execution_count": null,
      "outputs": []
    },
    {
      "cell_type": "markdown",
      "source": [
        "Use the Alchemy Faucet to get some testnet ETH. You'll need this to pay the gas fee for testnet transactions.\n",
        "\n",
        "https://goerlifaucet.com/"
      ],
      "metadata": {
        "id": "qeRdcD7KLMfg"
      }
    },
    {
      "cell_type": "code",
      "source": [
        "# With these commands you load up the wallet you created and you configure it\n",
        "# to automatically sign all transactions. THIS IS DANGEROUS. In most cases you\n",
        "# want to review transactions before signing them. But we'll allow it for the\n",
        "# sake of this exercise.\n",
        "\n",
        "account = accounts.load(\"testwallet\")\n",
        "account.set_autosign(True, passphrase= \"ENTER_PASSPHRASE_HERE\")"
      ],
      "metadata": {
        "id": "71smsf-cHGOE"
      },
      "execution_count": null,
      "outputs": []
    },
    {
      "cell_type": "markdown",
      "source": [
        "## Step 4: Mint an NFT"
      ],
      "metadata": {
        "id": "eZZvQN6w2sEJ"
      }
    },
    {
      "cell_type": "markdown",
      "source": [
        "I have deployed an NFT contract on Goerli that you can mint from an unlimited numer of times. This is just one example of the endless types of transactions you can automate using Ape. \n",
        "\n",
        "S/O to [ThirdWeb](https://thirdweb.com/), another great dev tool that I used to deploy the NFT contract.\n",
        "\n",
        "As long as you know which contract you want to interact with and which function to call on that contract, you can automate any on-chain activity."
      ],
      "metadata": {
        "id": "x-8fKYkx2yx3"
      }
    },
    {
      "cell_type": "code",
      "source": [
        "# Using this command, you create an interactive instance of the Test NFT smart contract.\n",
        "\n",
        "nft = Contract(\"0xea5eFEE3edC81D4F4865561B2E203Db0Ed34e248\")"
      ],
      "metadata": {
        "id": "LOdeVFwzKuqx"
      },
      "execution_count": null,
      "outputs": []
    },
    {
      "cell_type": "code",
      "source": [
        "# Check how many NFTs this test wallet owns by calling the contract's balanceOf() function.\n",
        "# Replace ENTER_WALLET_ADDRESS_HERE with the address of the wallet you just created.\n",
        "\n",
        "nft.balanceOf('ENTER_WALLET_ADDRESS_HERE', 0)"
      ],
      "metadata": {
        "id": "kJTlu-4MM7_9"
      },
      "execution_count": null,
      "outputs": []
    },
    {
      "cell_type": "code",
      "source": [
        "# Call the contract's claim function to mint an NFT\n",
        "\n",
        "nft.claim('ENTER_WALLET_ADDRESS_HERE', 0, 1, '0xeeeeeeeeeeeeeeeeeeeeeeeeeeeeeeeeeeeeeeee', 0, [\"0x0000000000000000000000000000000000000000000000000000000000000000\"], 0 , max_fee=\"200 gwei\", sender=account)"
      ],
      "metadata": {
        "id": "IaoGYEHrL9Hs"
      },
      "execution_count": null,
      "outputs": []
    },
    {
      "cell_type": "code",
      "source": [
        "# Check the wallet's NFT balance again. You should now have one more NFT than \n",
        "# you did before!\n",
        "\n",
        "nft.balanceOf('ENTER_WALLET_ADDRESS_HERE', 0)"
      ],
      "metadata": {
        "id": "6ay2Lis6NAGj"
      },
      "execution_count": null,
      "outputs": []
    },
    {
      "cell_type": "markdown",
      "source": [
        "# End of Lesson\n",
        "\n",
        "Congratulations! 🥳🥳🥳\n",
        "\n",
        "In this lesson you learnt how to make transactions using Ape.\n",
        "\n",
        "Now know the basics of ApeWorX. \n",
        "\n",
        "To get further support on your journey towards being a shadowy supercoder, check out the ApeWorX Academy which has a ton of awesome educational material 👇\n",
        "\n",
        "https://academy.apeworx.io/\n",
        "\n",
        "Join the ApeWorX discord to get support from the community 👇\n",
        "\n",
        "https://discord.gg/EPrZkmMqdH\n",
        "\n",
        "For more general knowledge on how the Python programming language works check out this great free course from UC San Diego 👇\n",
        "\n",
        "https://www.edx.org/course/python-for-data-science-2"
      ],
      "metadata": {
        "id": "WmsW1Hz3NQO6"
      }
    },
    {
      "cell_type": "code",
      "source": [],
      "metadata": {
        "id": "L3JoTzsxm1HK"
      },
      "execution_count": null,
      "outputs": []
    }
  ]
}